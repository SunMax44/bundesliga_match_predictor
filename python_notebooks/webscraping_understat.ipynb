{
 "cells": [
  {
   "cell_type": "code",
   "execution_count": 9,
   "id": "f6894438-d230-4f9e-93ca-16f5342c0448",
   "metadata": {},
   "outputs": [],
   "source": [
    "#imports of libraries for webscraping understat\n",
    "from bs4 import BeautifulSoup\n",
    "import pandas as pd\n",
    "import requests\n",
    "import numpy as np"
   ]
  },
  {
   "cell_type": "code",
   "execution_count": 65,
   "id": "154a1c50-b4f0-4241-ab05-c2f9d8d7454f",
   "metadata": {},
   "outputs": [],
   "source": [
    "# check match's soup\n",
    "url_match = 'https://understat.com/match/5186'\n",
    "response = requests.get(url_match)\n",
    "soup_match = BeautifulSoup(response.text, 'html.parser')\n",
    "soup_match"
   ]
  },
  {
   "cell_type": "code",
   "execution_count": null,
   "id": "3b1fcc00-4cd2-4d61-9a1e-e2c6b0f898d2",
   "metadata": {},
   "outputs": [],
   "source": [
    "#to check\n",
    "#soup_match.find('div', class_='progress-bar').parent"
   ]
  },
  {
   "cell_type": "code",
   "execution_count": 73,
   "id": "22443e31-b589-4c6a-b30c-19ca1e6a9e24",
   "metadata": {},
   "outputs": [
    {
     "data": {
      "text/plain": [
       "{'Date': 'Aug 23 2014',\n",
       " 'Home Team': 'Eintracht Frankfurt',\n",
       " 'Away Team': 'Freiburg',\n",
       " 'xG': {'Home': '0.91', 'Away': '2.06'},\n",
       " 'DEEP': {'Home': '4', 'Away': '4'},\n",
       " 'PPDA': {'Home': '20.64', 'Away': '15.29'},\n",
       " 'xPTS': {'Home': '0.54', 'Away': '2.27'}}"
      ]
     },
     "execution_count": 73,
     "metadata": {},
     "output_type": "execute_result"
    }
   ],
   "source": [
    "#define function to get one match's stat\n",
    "def get_match_stats(match_id):\n",
    "    #get soup for match match_id\n",
    "    url_match = 'https://understat.com/match/' + match_id\n",
    "    response = requests.get(url_match)\n",
    "    soup_match = BeautifulSoup(response.text, 'html.parser')\n",
    "\n",
    "    #Add date to dictionary first\n",
    "    breadcrumb = soup_match.find('ul', class_='breadcrumb')\n",
    "    # Locate the date, which is the last <li> element in the breadcrumb\n",
    "    date_li = breadcrumb.find_all('li')[-1]\n",
    "    match_date = date_li.text.strip()\n",
    "    # Add the date to the match stats dictionary\n",
    "    match_stats = {'Date': match_date}\n",
    "\n",
    "    # Extract team names and add to match_stats dict\n",
    "    teams_section = soup_match.find('div', class_='progress-bar teams-titles')\n",
    "    home_team = teams_section.find('div', class_='progress-home').text.strip()\n",
    "    away_team = teams_section.find('div', class_='progress-away').text.strip()\n",
    "    match_stats['Home Team'] = home_team \n",
    "    match_stats['Away Team'] = away_team\n",
    "    \n",
    "    #list of required stats and loop through them\n",
    "    stats_titles = ['xG', 'DEEP', 'PPDA', 'xPTS']\n",
    "    for stat_title in stats_titles:\n",
    "        # Find the progress bar whose progress-title matches the stat_title\n",
    "        stat_section = soup.find('div', class_='progress-title', string=stat_title)\n",
    "        if stat_section:\n",
    "            # Navigate to the parent progress-bar div\n",
    "            parent = stat_section.find_parent('div', class_='progress-bar')\n",
    "                \n",
    "            # Find all progress-value divs within this section\n",
    "            progress_values = parent.find_all('div', class_='progress-value')\n",
    "                \n",
    "            # Extract the text from the first and second progress-value divs\n",
    "            home_value = progress_values[0].text.strip().replace('\\n', '')\n",
    "            away_value = progress_values[1].text.strip().replace('\\n', '') if len(progress_values) > 1 else None\n",
    "            match_stats[stat_title] = {'Home': home_value, 'Away': away_value}\n",
    "\n",
    "    return match_stats\n",
    "\n",
    "get_match_stats('5451')"
   ]
  },
  {
   "cell_type": "code",
   "execution_count": 77,
   "id": "d8d457f6-edb2-445d-a742-cac26030a432",
   "metadata": {},
   "outputs": [],
   "source": [
    "url_league = 'https://understat.com/league/Bundesliga/2014'\n",
    "response_league = requests.get(url_league)\n",
    "soup_league = BeautifulSoup(response_league.text, 'html.parser')"
   ]
  },
  {
   "cell_type": "code",
   "execution_count": 140,
   "id": "2245baf0-59cc-464b-b22f-4674d46599a2",
   "metadata": {},
   "outputs": [
    {
     "name": "stdout",
     "output_type": "stream",
     "text": [
      "{'27993', '28028', '27827', '27788', '27883', '28012', '27755', '27952', '27795', '27821', '27973', '28006', '28019', '27942', '27798', '27879', '27920', '27986', '28000', '28039', '27834', '27966', '27848', '27784', '27745', '27891', '27888', '27922', '27850', '27997', '27757', '28046', '27943', '27925', '28016', '27823', '27801', '27759', '27955', '27916', '27826', '27777', '27867', '27860', '27794', '27874', '27917', '27774', '27929', '27979', '28029', '27844', '27909', '28037', '27782', '27831', '27964', '27830', '27996', '27766', '27932', '27945', '27989', '27854', '27893', '28021', '27983', '28001', '27847', '28003', '27775', '27810', '27919', '27778', '27753', '27772', '27980', '28044', '27807', '27773', '27768', '27787', '28010', '28032', '28008', '27793', '27875', '27895', '27944', '27901', '27914', '27963', '27791', '27761', '27817', '27962', '28004', '27804', '27911', '28034', '27750', '27815', '27902', '27783', '27789', '27871', '27797', '27937', '28031', '27786', '27969', '28015', '27862', '28002', '27913', '27859', '28033', '27870', '27754', '27838', '27899', '28035', '27863', '27780', '27921', '28030', '27995', '27857', '27792', '28026', '27829', '27878', '27856', '27749', '27903', '27762', '28014', '28042', '27853', '27835', '27923', '27868', '27884', '27864', '27912', '27880', '27841', '27928', '27873', '27934', '27938', '27806', '27876', '27889', '27918', '27781', '27846', '27763', '27959', '27968', '27855', '27994', '27978', '27946', '27779', '27886', '27816', '27813', '27832', '27833', '28005', '27790', '27882', '27845', '27900', '28020', '27758', '28011', '28036', '27764', '27967', '27837', '27836', '27770', '27898', '28009', '27843', '27747', '27865', '28013', '27746', '27811', '27887', '27988', '27936', '27970', '27842', '27947', '27975', '27999', '27905', '27803', '27957', '27752', '27814', '27948', '27769', '27974', '27941', '27985', '27748', '27877', '27800', '27908', '27743', '27890', '27822', '27896', '27808', '27960', '27991', '28027', '27805', '27851', '27756', '27984', '27744', '27904', '27840', '27951', '28038', '27927', '27906', '28024', '27825', '27972', '27802', '27910', '27998', '27894', '27926', '28007', '27812', '27924', '27852', '27939', '27930', '27765', '27881', '27785', '27953', '27987', '27818', '27940', '27965', '27961', '28023', '27849', '27954', '28018', '27776', '27949', '27897', '27977', '27990', '28041', '28025', '28047', '27981', '28040', '27866', '27885', '27907', '27958', '27767', '27820', '27933', '28022', '27858', '28045', '27861', '27771', '27971', '27819', '27828', '27982', '27742', '27796', '27872', '27950', '27992', '28017', '28043', '27760', '27839', '27824', '27869', '27915', '27931', '27976', '27892', '27751', '27956', '27809', '27799', '27935'}\n"
     ]
    },
    {
     "name": "stderr",
     "output_type": "stream",
     "text": [
      "/var/folders/72/b7zxktp96cz1n4tjk3mlbj5w0000gn/T/ipykernel_987/4138678457.py:9: DeprecationWarning: The 'text' argument to find()-type methods is deprecated. Use 'string' instead.\n",
      "  script = soup_league.find('script', text=lambda t: t and 'datesData' in t).string\n"
     ]
    }
   ],
   "source": [
    "year_list = range(2014,2025)\n",
    "match_ids = []\n",
    "for year in year_list:\n",
    "    url_league = 'https://understat.com/league/Bundesliga/' + str(year)\n",
    "    response_league = requests.get(url_league)\n",
    "    soup_league = BeautifulSoup(response_league.text, 'html.parser')\n",
    "    \n",
    "    # Find the script tag containing the 'datesData' variable\n",
    "    script = soup_league.find('script', text=lambda t: t and 'datesData' in t).string\n",
    "    \n",
    "    # Extract the JSON part from the script\n",
    "    start_index = script.find(\"JSON.parse('\") + len(\"JSON.parse('\")\n",
    "    end_index = script.find(\"')\", start_index)\n",
    "    json_data = script[start_index:end_index].encode('utf-8').decode('unicode_escape')\n",
    "    \n",
    "    # Parse the JSON data\n",
    "    matches_data = json.loads(json_data)\n",
    "    \n",
    "    # Extract and add all match IDs to match id list\n",
    "    for match in matches_data:\n",
    "        match_ids.append(match['id'])\n",
    "    \n",
    "# Print the list of match IDs to check\n",
    "print(match_ids)"
   ]
  },
  {
   "cell_type": "code",
   "execution_count": 141,
   "id": "743a7922-1dd8-4254-a308-195be63385c1",
   "metadata": {},
   "outputs": [
    {
     "data": {
      "text/plain": [
       "306"
      ]
     },
     "execution_count": 141,
     "metadata": {},
     "output_type": "execute_result"
    }
   ],
   "source": [
    "len(match_ids)\n",
    "# -> 3366, also 11 saisons , weil /2024 die aktuelle saison ist und schon alle match_ids angelegt sind, \n",
    "#auch wenn die matches noch niht gespielt sind und die understat seite noch einen 404 fehler zeigt"
   ]
  },
  {
   "cell_type": "code",
   "execution_count": null,
   "id": "079a05c2-e551-4d59-8477-15a81c073cd0",
   "metadata": {},
   "outputs": [],
   "source": []
  },
  {
   "cell_type": "code",
   "execution_count": null,
   "id": "ad917bf4-90f7-4d17-8641-24e9d9e31402",
   "metadata": {},
   "outputs": [],
   "source": []
  }
 ],
 "metadata": {
  "kernelspec": {
   "display_name": "Python 3 (ipykernel)",
   "language": "python",
   "name": "python3"
  },
  "language_info": {
   "codemirror_mode": {
    "name": "ipython",
    "version": 3
   },
   "file_extension": ".py",
   "mimetype": "text/x-python",
   "name": "python",
   "nbconvert_exporter": "python",
   "pygments_lexer": "ipython3",
   "version": "3.12.4"
  }
 },
 "nbformat": 4,
 "nbformat_minor": 5
}
