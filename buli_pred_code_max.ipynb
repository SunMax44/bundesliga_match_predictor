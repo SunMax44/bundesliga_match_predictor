{
 "cells": [
  {
   "cell_type": "code",
   "execution_count": 17,
   "id": "b2089bf0-26cd-4845-9407-dafb1652278c",
   "metadata": {},
   "outputs": [
    {
     "data": {
      "text/plain": [
       "[]"
      ]
     },
     "execution_count": 17,
     "metadata": {},
     "output_type": "execute_result"
    }
   ],
   "source": [
    "import pandas as pd\n",
    "import glob\n",
    "import os\n",
    "\n",
    "# Specify the folder path where CSV files are stored\n",
    "folder_path = 'https://github.com/SunMax44/football_match_predictor/tree/main/data'\n",
    "\n",
    "# Use glob to find all CSV files in the specified folder\n",
    "all_files = glob.glob(os.path.join(folder_path, \"*.csv\"))\n",
    "\n",
    "# Use a list comprehension to read each CSV file into a DataFrame\n",
    "#df_list = [pd.read_csv(file) for file in all_files]\n",
    "\n",
    "# Concatenate all DataFrames in the list into a single DataFrame\n",
    "#buli_df = pd.concat(df_list, ignore_index=True)\n",
    "\n",
    "# Display the combined DataFrame\n",
    "#print(buli_df)\n"
   ]
  },
  {
   "cell_type": "code",
   "execution_count": null,
   "id": "c54c0ca8-27e2-426e-a160-6ffd4ce0815e",
   "metadata": {},
   "outputs": [],
   "source": []
  },
  {
   "cell_type": "code",
   "execution_count": null,
   "id": "3441895d-8e09-49f9-9796-1fc0f2f4d09a",
   "metadata": {},
   "outputs": [],
   "source": []
  }
 ],
 "metadata": {
  "kernelspec": {
   "display_name": "Python 3 (ipykernel)",
   "language": "python",
   "name": "python3"
  },
  "language_info": {
   "codemirror_mode": {
    "name": "ipython",
    "version": 3
   },
   "file_extension": ".py",
   "mimetype": "text/x-python",
   "name": "python",
   "nbconvert_exporter": "python",
   "pygments_lexer": "ipython3",
   "version": "3.12.4"
  }
 },
 "nbformat": 4,
 "nbformat_minor": 5
}
